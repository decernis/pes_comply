{
 "cells": [
  {
   "cell_type": "code",
   "execution_count": 1,
   "id": "bd60e953",
   "metadata": {},
   "outputs": [],
   "source": [
    "import pandas as pd"
   ]
  },
  {
   "cell_type": "code",
   "execution_count": 2,
   "id": "bd1da277",
   "metadata": {},
   "outputs": [],
   "source": [
    "pes_df = pd.read_csv('PES_FINAL.csv', encoding='latin1', dtype='unicode',usecols=[\"COUNTRY\",\"USAGE\"], index_col=0)"
   ]
  },
  {
   "cell_type": "code",
   "execution_count": 3,
   "id": "0ad17a0d",
   "metadata": {},
   "outputs": [
    {
     "data": {
      "text/plain": [
       "(256833405, 1)"
      ]
     },
     "execution_count": 3,
     "metadata": {},
     "output_type": "execute_result"
    }
   ],
   "source": [
    "pes_df.shape"
   ]
  },
  {
   "cell_type": "code",
   "execution_count": 4,
   "id": "10b187ab",
   "metadata": {},
   "outputs": [
    {
     "data": {
      "text/html": [
       "<div>\n",
       "<style scoped>\n",
       "    .dataframe tbody tr th:only-of-type {\n",
       "        vertical-align: middle;\n",
       "    }\n",
       "\n",
       "    .dataframe tbody tr th {\n",
       "        vertical-align: top;\n",
       "    }\n",
       "\n",
       "    .dataframe thead th {\n",
       "        text-align: right;\n",
       "    }\n",
       "</style>\n",
       "<table border=\"1\" class=\"dataframe\">\n",
       "  <thead>\n",
       "    <tr style=\"text-align: right;\">\n",
       "      <th></th>\n",
       "      <th>USAGE</th>\n",
       "    </tr>\n",
       "    <tr>\n",
       "      <th>COUNTRY</th>\n",
       "      <th></th>\n",
       "    </tr>\n",
       "  </thead>\n",
       "  <tbody>\n",
       "    <tr>\n",
       "      <th>Albania</th>\n",
       "      <td>Benzaldehyde</td>\n",
       "    </tr>\n",
       "    <tr>\n",
       "      <th>Albania</th>\n",
       "      <td>Benzoic acid</td>\n",
       "    </tr>\n",
       "    <tr>\n",
       "      <th>Albania</th>\n",
       "      <td>Benzophenones</td>\n",
       "    </tr>\n",
       "    <tr>\n",
       "      <th>Albania</th>\n",
       "      <td>Benzoyl peroxide</td>\n",
       "    </tr>\n",
       "    <tr>\n",
       "      <th>Albania</th>\n",
       "      <td>Benzyl alcohol</td>\n",
       "    </tr>\n",
       "    <tr>\n",
       "      <th>...</th>\n",
       "      <td>...</td>\n",
       "    </tr>\n",
       "    <tr>\n",
       "      <th>Lebanon</th>\n",
       "      <td>Other farmed terrestrial animals (edible offal...</td>\n",
       "    </tr>\n",
       "    <tr>\n",
       "      <th>Lebanon</th>\n",
       "      <td>Other flower pistil spices</td>\n",
       "    </tr>\n",
       "    <tr>\n",
       "      <th>Lebanon</th>\n",
       "      <td>Other flowering brassica</td>\n",
       "    </tr>\n",
       "    <tr>\n",
       "      <th>Lebanon</th>\n",
       "      <td>Other fruit spices</td>\n",
       "    </tr>\n",
       "    <tr>\n",
       "      <th>Lebanon</th>\n",
       "      <td>Other fruits with edible peel</td>\n",
       "    </tr>\n",
       "  </tbody>\n",
       "</table>\n",
       "<p>256833405 rows × 1 columns</p>\n",
       "</div>"
      ],
      "text/plain": [
       "                                                     USAGE\n",
       "COUNTRY                                                   \n",
       "Albania                                       Benzaldehyde\n",
       "Albania                                       Benzoic acid\n",
       "Albania                                      Benzophenones\n",
       "Albania                                   Benzoyl peroxide\n",
       "Albania                                     Benzyl alcohol\n",
       "...                                                    ...\n",
       "Lebanon  Other farmed terrestrial animals (edible offal...\n",
       "Lebanon                         Other flower pistil spices\n",
       "Lebanon                           Other flowering brassica\n",
       "Lebanon                                 Other fruit spices\n",
       "Lebanon                      Other fruits with edible peel\n",
       "\n",
       "[256833405 rows x 1 columns]"
      ]
     },
     "execution_count": 4,
     "metadata": {},
     "output_type": "execute_result"
    }
   ],
   "source": [
    "pes_df"
   ]
  },
  {
   "cell_type": "code",
   "execution_count": 6,
   "id": "1e4ef3ee",
   "metadata": {},
   "outputs": [
    {
     "data": {
      "text/plain": [
       "Index(['USAGE'], dtype='object')"
      ]
     },
     "execution_count": 6,
     "metadata": {},
     "output_type": "execute_result"
    }
   ],
   "source": [
    "pes_df.columns"
   ]
  },
  {
   "cell_type": "code",
   "execution_count": 10,
   "id": "eabea9f8",
   "metadata": {},
   "outputs": [],
   "source": [
    "countries = sorted(list(pes_df.index.unique()))"
   ]
  },
  {
   "cell_type": "code",
   "execution_count": 11,
   "id": "b2852be6",
   "metadata": {},
   "outputs": [
    {
     "data": {
      "text/plain": [
       "215"
      ]
     },
     "execution_count": 11,
     "metadata": {},
     "output_type": "execute_result"
    }
   ],
   "source": [
    "len(countries)"
   ]
  },
  {
   "cell_type": "code",
   "execution_count": 12,
   "id": "66f90e91",
   "metadata": {},
   "outputs": [
    {
     "data": {
      "text/plain": [
       "['ASEAN',\n",
       " 'Afghanistan',\n",
       " 'Albania',\n",
       " 'Algeria',\n",
       " 'American Samoa',\n",
       " 'Angola',\n",
       " 'Anguilla',\n",
       " 'Antigua and Barbuda',\n",
       " 'Argentina',\n",
       " 'Armenia',\n",
       " 'Aruba',\n",
       " 'Australia',\n",
       " 'Austria',\n",
       " 'Azerbaijan',\n",
       " 'Bahamas',\n",
       " 'Bahrain',\n",
       " 'Bangladesh',\n",
       " 'Barbados',\n",
       " 'Belarus',\n",
       " 'Belgium',\n",
       " 'Belize',\n",
       " 'Benin',\n",
       " 'Bhutan',\n",
       " 'Bolivia',\n",
       " 'Bosnia-Herzegovina',\n",
       " 'Botswana',\n",
       " 'Brazil',\n",
       " 'Brunei',\n",
       " 'Bulgaria',\n",
       " 'Burkina Faso',\n",
       " 'Burundi',\n",
       " 'CARICOM',\n",
       " 'CEMAC',\n",
       " 'COMIECO',\n",
       " 'Cambodia',\n",
       " 'Cameroon',\n",
       " 'Canada',\n",
       " 'Canada Province',\n",
       " 'Cape Verde',\n",
       " 'Cayman Islands',\n",
       " 'Central African Republic',\n",
       " 'Chad',\n",
       " 'Chile',\n",
       " 'China',\n",
       " 'Codex',\n",
       " 'Colombia',\n",
       " 'Comoros',\n",
       " 'Congo',\n",
       " 'Cook Islands',\n",
       " 'Costa Rica',\n",
       " 'Croatia',\n",
       " 'Cuba',\n",
       " 'Curacao',\n",
       " 'Cyprus',\n",
       " 'Czech Republic',\n",
       " 'Democratic Republic of the Congo',\n",
       " 'Denmark',\n",
       " 'Djibouti',\n",
       " 'Dominica',\n",
       " 'Dominican Republic',\n",
       " 'ECOWAS',\n",
       " 'EFSA',\n",
       " 'East African Community',\n",
       " 'Ecuador',\n",
       " 'Egypt',\n",
       " 'El Salvador',\n",
       " 'Estonia',\n",
       " 'Ethiopia',\n",
       " 'Eurasian Economic Union',\n",
       " 'European Union',\n",
       " 'Fiji',\n",
       " 'Finland',\n",
       " 'France',\n",
       " 'French Guiana',\n",
       " 'French Polynesia',\n",
       " 'French West Indies',\n",
       " 'GCC',\n",
       " 'Gabon',\n",
       " 'Gambia',\n",
       " 'Georgia',\n",
       " 'Germany',\n",
       " 'Ghana',\n",
       " 'Greece',\n",
       " 'Greenland',\n",
       " 'Grenada',\n",
       " 'Guam',\n",
       " 'Guatemala',\n",
       " 'Guinea',\n",
       " 'Guinea-Bissau',\n",
       " 'Guyana',\n",
       " 'Haiti',\n",
       " 'Honduras',\n",
       " 'Hong Kong',\n",
       " 'Hungary',\n",
       " 'Iceland',\n",
       " 'India',\n",
       " 'Indonesia',\n",
       " 'Iran',\n",
       " 'Iraq',\n",
       " 'Ireland',\n",
       " 'Israel',\n",
       " 'Italy',\n",
       " 'Ivory Coast',\n",
       " 'Jamaica',\n",
       " 'Japan',\n",
       " 'Jordan',\n",
       " 'Kazakhstan',\n",
       " 'Kenya',\n",
       " 'Kiribati',\n",
       " 'Korea',\n",
       " 'Kosovo',\n",
       " 'Kuwait',\n",
       " 'Kyrgyzstan',\n",
       " 'Laos',\n",
       " 'Latvia',\n",
       " 'Lebanon',\n",
       " 'Lesotho',\n",
       " 'Liberia',\n",
       " 'Libya',\n",
       " 'Liechtenstein',\n",
       " 'Lithuania',\n",
       " 'Luxembourg',\n",
       " 'Macau',\n",
       " 'Madagascar',\n",
       " 'Malawi',\n",
       " 'Malaysia',\n",
       " 'Maldives',\n",
       " 'Mali',\n",
       " 'Malta',\n",
       " 'Mauritania',\n",
       " 'Mauritius',\n",
       " 'Mexico',\n",
       " 'Model Standards',\n",
       " 'Moldova',\n",
       " 'Monaco',\n",
       " 'Mongolia',\n",
       " 'Montenegro',\n",
       " 'Montserrat',\n",
       " 'Morocco',\n",
       " 'Mozambique',\n",
       " 'Myanmar',\n",
       " 'Namibia',\n",
       " 'Nepal',\n",
       " 'Netherlands',\n",
       " 'New Caledonia',\n",
       " 'New Zealand',\n",
       " 'Nicaragua',\n",
       " 'Nigeria',\n",
       " 'Niue',\n",
       " 'North Macedonia',\n",
       " 'Norway',\n",
       " 'Oman',\n",
       " 'Pakistan',\n",
       " 'Palestine',\n",
       " 'Panama',\n",
       " 'Papua New Guinea',\n",
       " 'Paraguay',\n",
       " 'Peru',\n",
       " 'Philippines',\n",
       " 'Poland',\n",
       " 'Portugal',\n",
       " 'Puerto Rico',\n",
       " 'Qatar',\n",
       " 'Romania',\n",
       " 'Russia',\n",
       " 'Rwanda',\n",
       " 'Saint Kitts and Nevis',\n",
       " 'Saint Lucia',\n",
       " 'Saint Vincent and the Grenadines',\n",
       " 'San Marino',\n",
       " 'Sao Tome and Principe',\n",
       " 'Saudi Arabia',\n",
       " 'Senegal',\n",
       " 'Serbia',\n",
       " 'Seychelles',\n",
       " 'Sierra Leone',\n",
       " 'Singapore',\n",
       " 'Sint Maarten',\n",
       " 'Slovakia',\n",
       " 'Slovenia',\n",
       " 'Solomon Islands',\n",
       " 'South Africa',\n",
       " 'South Sudan',\n",
       " 'Spain',\n",
       " 'Sri Lanka',\n",
       " 'Sudan',\n",
       " 'Suriname',\n",
       " 'Swaziland',\n",
       " 'Sweden',\n",
       " 'Switzerland',\n",
       " 'Taiwan',\n",
       " 'Tajikistan',\n",
       " 'Tanzania',\n",
       " 'Thailand',\n",
       " 'Togo',\n",
       " 'Trinidad & Tobago',\n",
       " 'Tunisia',\n",
       " 'Turkey',\n",
       " 'Turkmenistan',\n",
       " 'Turks & Caicos',\n",
       " 'Tuvalu',\n",
       " 'US Virgin Islands',\n",
       " 'USA State',\n",
       " 'Uganda',\n",
       " 'Ukraine',\n",
       " 'United Arab Emirates',\n",
       " 'United Kingdom',\n",
       " 'United States',\n",
       " 'Uruguay',\n",
       " 'Uzbekistan',\n",
       " 'Venezuela',\n",
       " 'Vietnam',\n",
       " 'WHO',\n",
       " 'Yemen',\n",
       " 'Zimbabwe']"
      ]
     },
     "execution_count": 12,
     "metadata": {},
     "output_type": "execute_result"
    }
   ],
   "source": [
    "countries"
   ]
  },
  {
   "cell_type": "code",
   "execution_count": 13,
   "id": "855c613d",
   "metadata": {},
   "outputs": [
    {
     "data": {
      "text/plain": [
       "1603"
      ]
     },
     "execution_count": 13,
     "metadata": {},
     "output_type": "execute_result"
    }
   ],
   "source": [
    "len(set(pes_df.USAGE))"
   ]
  },
  {
   "cell_type": "code",
   "execution_count": 14,
   "id": "1a3e69fb",
   "metadata": {},
   "outputs": [],
   "source": [
    "with open('pes_country.csv', 'w') as fout:\n",
    "    for c in countries:\n",
    "        fout.write(c + '\\n')"
   ]
  },
  {
   "cell_type": "code",
   "execution_count": 15,
   "id": "05ef0673",
   "metadata": {},
   "outputs": [],
   "source": [
    "usages = sorted(list(set(pes_df.USAGE)))\n",
    "with open('pes_usage.csv', 'w') as fout:\n",
    "    for u in usages:\n",
    "        fout.write(u + '\\n')"
   ]
  },
  {
   "cell_type": "code",
   "execution_count": 16,
   "id": "20da3e09",
   "metadata": {},
   "outputs": [],
   "source": [
    "limit_df = pd.read_csv('PES_FINAL.csv', encoding='latin1', dtype='unicode',usecols=[\"LIMIT\",\"UNIT\"])"
   ]
  },
  {
   "cell_type": "code",
   "execution_count": 17,
   "id": "deb3b585",
   "metadata": {},
   "outputs": [
    {
     "data": {
      "text/plain": [
       "0.01         190272074\n",
       "0             24159664\n",
       "0.010000       7472548\n",
       "0.1            5889667\n",
       "0.050000       4133085\n",
       "               ...    \n",
       "0.330000             1\n",
       "0.000250             1\n",
       "0.210000             1\n",
       "41.000000            1\n",
       "1.170000             1\n",
       "Name: LIMIT, Length: 530, dtype: int64"
      ]
     },
     "execution_count": 17,
     "metadata": {},
     "output_type": "execute_result"
    }
   ],
   "source": [
    "limit_df['LIMIT'].value_counts()"
   ]
  },
  {
   "cell_type": "code",
   "execution_count": 21,
   "id": "35b47277",
   "metadata": {},
   "outputs": [],
   "source": [
    "import matplotlib.pyplot as plt"
   ]
  },
  {
   "cell_type": "code",
   "execution_count": 24,
   "id": "feefb34b",
   "metadata": {},
   "outputs": [
    {
     "data": {
      "text/plain": [
       "<AxesSubplot:ylabel='LIMIT'>"
      ]
     },
     "execution_count": 24,
     "metadata": {},
     "output_type": "execute_result"
    },
    {
     "data": {
      "image/png": "[encoded data removed]",
      "text/plain": [
       "<Figure size 432x288 with 1 Axes>"
      ]
     },
     "metadata": {},
     "output_type": "display_data"
    }
   ],
   "source": [
    "limit_df['LIMIT'].value_counts().plot(kind='pie')"
   ]
  },
  {
   "cell_type": "code",
   "execution_count": 18,
   "id": "a2afc634",
   "metadata": {},
   "outputs": [
    {
     "data": {
      "text/plain": [
       "PPM             217252071\n",
       "-                 6282572\n",
       "Ø¬Ù\n",
       "/ ÙØªØ±        61935\n",
       "Ø¬Ù\n",
       "/ÙØªØ±         13320\n",
       "kg                   2645\n",
       "B_PPB                 432\n",
       "mg/kg                 213\n",
       "mg                    132\n",
       "mkg/dm3                12\n",
       "g/acre/year            12\n",
       "g                      10\n",
       "ft                      7\n",
       "g/m3                    2\n",
       "KÆGV/qr                2\n",
       "Liter                   1\n",
       "CFU/cm3                 1\n",
       "Name: UNIT, dtype: int64"
      ]
     },
     "execution_count": 18,
     "metadata": {},
     "output_type": "execute_result"
    }
   ],
   "source": [
    "limit_df['UNIT'].value_counts()"
   ]
  },
  {
   "cell_type": "code",
   "execution_count": 31,
   "id": "26518eb5",
   "metadata": {},
   "outputs": [
    {
     "data": {
      "text/plain": [
       "<AxesSubplot:ylabel='UNIT'>"
      ]
     },
     "execution_count": 31,
     "metadata": {},
     "output_type": "execute_result"
    },
    {
     "name": "stderr",
     "output_type": "stream",
     "text": [
      "/Users/sunshine168/.pyenv/versions/anaconda3-2019.10/lib/python3.7/site-packages/matplotlib/backends/backend_agg.py:238: RuntimeWarning: Glyph 133 missing from current font.\n",
      "  font.set_text(s, 0.0, flags=flags)\n",
      "/Users/sunshine168/.pyenv/versions/anaconda3-2019.10/lib/python3.7/site-packages/matplotlib/backends/backend_agg.py:238: RuntimeWarning: Glyph 132 missing from current font.\n",
      "  font.set_text(s, 0.0, flags=flags)\n",
      "/Users/sunshine168/.pyenv/versions/anaconda3-2019.10/lib/python3.7/site-packages/matplotlib/backends/backend_agg.py:238: RuntimeWarning: Glyph 143 missing from current font.\n",
      "  font.set_text(s, 0.0, flags=flags)\n",
      "/Users/sunshine168/.pyenv/versions/anaconda3-2019.10/lib/python3.7/site-packages/matplotlib/backends/backend_agg.py:201: RuntimeWarning: Glyph 133 missing from current font.\n",
      "  font.set_text(s, 0, flags=flags)\n",
      "/Users/sunshine168/.pyenv/versions/anaconda3-2019.10/lib/python3.7/site-packages/matplotlib/backends/backend_agg.py:201: RuntimeWarning: Glyph 132 missing from current font.\n",
      "  font.set_text(s, 0, flags=flags)\n",
      "/Users/sunshine168/.pyenv/versions/anaconda3-2019.10/lib/python3.7/site-packages/matplotlib/backends/backend_agg.py:201: RuntimeWarning: Glyph 143 missing from current font.\n",
      "  font.set_text(s, 0, flags=flags)\n"
     ]
    },
    {
     "data": {
      "image/png": "[encoded data removed]",
      "text/plain": [
       "<Figure size 432x288 with 1 Axes>"
      ]
     },
     "metadata": {},
     "output_type": "display_data"
    }
   ],
   "source": [
    "limit_df['UNIT'].value_counts().plot(kind='pie')"
   ]
  },
  {
   "cell_type": "code",
   "execution_count": 19,
   "id": "f877266e",
   "metadata": {},
   "outputs": [
    {
     "data": {
      "text/plain": [
       "(256833405, 2)"
      ]
     },
     "execution_count": 19,
     "metadata": {},
     "output_type": "execute_result"
    }
   ],
   "source": [
    "limit_df.shape"
   ]
  },
  {
   "cell_type": "code",
   "execution_count": 20,
   "id": "da5ca4a5",
   "metadata": {},
   "outputs": [
    {
     "data": {
      "text/plain": [
       "LIMIT    15343048\n",
       "UNIT     33220038\n",
       "dtype: int64"
      ]
     },
     "execution_count": 20,
     "metadata": {},
     "output_type": "execute_result"
    }
   ],
   "source": [
    "limit_df.isna().sum()"
   ]
  },
  {
   "cell_type": "code",
   "execution_count": 27,
   "id": "7a2ca6d3",
   "metadata": {},
   "outputs": [
    {
     "data": {
      "text/plain": [
       "'5.973930065678178%'"
      ]
     },
     "execution_count": 27,
     "metadata": {},
     "output_type": "execute_result"
    }
   ],
   "source": [
    "str(15343048 / 256833405 * 100) + '%'"
   ]
  },
  {
   "cell_type": "code",
   "execution_count": 28,
   "id": "9ecf8f7d",
   "metadata": {},
   "outputs": [
    {
     "data": {
      "text/plain": [
       "'12.934469330420628%'"
      ]
     },
     "execution_count": 28,
     "metadata": {},
     "output_type": "execute_result"
    }
   ],
   "source": [
    "str(33220038 / 256833405 * 100) + '%'"
   ]
  },
  {
   "cell_type": "code",
   "execution_count": 29,
   "id": "3b03782a",
   "metadata": {},
   "outputs": [],
   "source": [
    "cas_df = pd.read_csv('PES_FINAL.csv', encoding='latin1', dtype='unicode',usecols=[\"FORM_ID\"])"
   ]
  },
  {
   "cell_type": "code",
   "execution_count": 30,
   "id": "6b1d344f",
   "metadata": {},
   "outputs": [
    {
     "data": {
      "text/plain": [
       "4257"
      ]
     },
     "execution_count": 30,
     "metadata": {},
     "output_type": "execute_result"
    }
   ],
   "source": [
    "len(set(cas_df.FORM_ID))"
   ]
  },
  {
   "cell_type": "code",
   "execution_count": 32,
   "id": "cdea5f9a",
   "metadata": {},
   "outputs": [],
   "source": [
    "func_df = pd.read_csv('PES_FINAL.csv', encoding='latin1', dtype='unicode',usecols=[\"FUNCTION\"])"
   ]
  },
  {
   "cell_type": "code",
   "execution_count": 33,
   "id": "1834e478",
   "metadata": {},
   "outputs": [
    {
     "data": {
      "text/plain": [
       "Pesticides               253243584\n",
       "Other chemicals            1812531\n",
       "Food additives              950968\n",
       "Vet drugs                   331143\n",
       "Bacillus bacteria           113645\n",
       "Heavy metals                 63308\n",
       "Dioxins and pcbs             47525\n",
       "Nitrates                     44300\n",
       "Streptomyces bacteria        30573\n",
       "Viruses                      30549\n",
       "Medicinal plants             29279\n",
       "Metal compounds              28662\n",
       "Nonmetals                    18674\n",
       "Volatile oil                 18669\n",
       "Metals                       14376\n",
       "Extraction solvents          10774\n",
       "Yeast                         8659\n",
       "Animal byproducts             8031\n",
       "Coliforms & e. coli           7995\n",
       "Biological species            6669\n",
       "Pseudomonas bacteria          6008\n",
       "Nitrites                      4093\n",
       "Heavy metal compounds         2667\n",
       "Metalloids                     668\n",
       "Hormonal substances             47\n",
       "Marine toxins                    5\n",
       "Fungi                            2\n",
       "Mycotoxins                       1\n",
       "Name: FUNCTION, dtype: int64"
      ]
     },
     "execution_count": 33,
     "metadata": {},
     "output_type": "execute_result"
    }
   ],
   "source": [
    "func_df.FUNCTION.value_counts()"
   ]
  },
  {
   "cell_type": "code",
   "execution_count": null,
   "id": "9c57bff5",
   "metadata": {},
   "outputs": [],
   "source": []
  },
  {
   "cell_type": "code",
   "execution_count": null,
   "id": "d04cc6c6",
   "metadata": {},
   "outputs": [],
   "source": []
  },
  {
   "cell_type": "code",
   "execution_count": null,
   "id": "2ee49f3e",
   "metadata": {},
   "outputs": [],
   "source": []
  },
  {
   "cell_type": "code",
   "execution_count": null,
   "id": "912433fd",
   "metadata": {},
   "outputs": [],
   "source": []
  },
  {
   "cell_type": "code",
   "execution_count": null,
   "id": "48b7b597",
   "metadata": {},
   "outputs": [],
   "source": []
  }
 ],
 "metadata": {
  "kernelspec": {
   "display_name": "Python 3",
   "language": "python",
   "name": "python3"
  },
  "language_info": {
   "codemirror_mode": {
    "name": "ipython",
    "version": 3
   },
   "file_extension": ".py",
   "mimetype": "text/x-python",
   "name": "python",
   "nbconvert_exporter": "python",
   "pygments_lexer": "ipython3",
   "version": "3.7.4"
  }
 },
 "nbformat": 4,
 "nbformat_minor": 5
}
